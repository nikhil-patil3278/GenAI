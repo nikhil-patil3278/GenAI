{
 "cells": [
  {
   "cell_type": "code",
   "execution_count": 1,
   "id": "88551102",
   "metadata": {},
   "outputs": [
    {
     "name": "stdout",
     "output_type": "stream",
     "text": [
      "Requirement already satisfied: langchain in /home/zadmin/Desktop/GAAI-B4-Azure/genai/lib/python3.12/site-packages (0.3.27)\n",
      "Requirement already satisfied: openai in /home/zadmin/Desktop/GAAI-B4-Azure/genai/lib/python3.12/site-packages (1.107.3)\n",
      "Requirement already satisfied: mlflow in /home/zadmin/Desktop/GAAI-B4-Azure/genai/lib/python3.12/site-packages (3.3.2)\n",
      "Requirement already satisfied: yfinance in /home/zadmin/Desktop/GAAI-B4-Azure/genai/lib/python3.12/site-packages (0.2.65)\n",
      "Requirement already satisfied: duckduckgo-search in /home/zadmin/Desktop/GAAI-B4-Azure/genai/lib/python3.12/site-packages (8.1.1)\n",
      "Requirement already satisfied: langchain_community in /home/zadmin/Desktop/GAAI-B4-Azure/genai/lib/python3.12/site-packages (0.3.27)\n",
      "Requirement already satisfied: ddgs in /home/zadmin/Desktop/GAAI-B4-Azure/genai/lib/python3.12/site-packages (9.5.5)\n",
      "Requirement already satisfied: langchain-core<1.0.0,>=0.3.72 in /home/zadmin/Desktop/GAAI-B4-Azure/genai/lib/python3.12/site-packages (from langchain) (0.3.74)\n",
      "Requirement already satisfied: langchain-text-splitters<1.0.0,>=0.3.9 in /home/zadmin/Desktop/GAAI-B4-Azure/genai/lib/python3.12/site-packages (from langchain) (0.3.9)\n",
      "Requirement already satisfied: langsmith>=0.1.17 in /home/zadmin/Desktop/GAAI-B4-Azure/genai/lib/python3.12/site-packages (from langchain) (0.4.17)\n",
      "Requirement already satisfied: pydantic<3.0.0,>=2.7.4 in /home/zadmin/Desktop/GAAI-B4-Azure/genai/lib/python3.12/site-packages (from langchain) (2.11.7)\n",
      "Requirement already satisfied: SQLAlchemy<3,>=1.4 in /home/zadmin/Desktop/GAAI-B4-Azure/genai/lib/python3.12/site-packages (from langchain) (2.0.43)\n",
      "Requirement already satisfied: requests<3,>=2 in /home/zadmin/Desktop/GAAI-B4-Azure/genai/lib/python3.12/site-packages (from langchain) (2.32.5)\n",
      "Requirement already satisfied: PyYAML>=5.3 in /home/zadmin/Desktop/GAAI-B4-Azure/genai/lib/python3.12/site-packages (from langchain) (6.0.2)\n",
      "Requirement already satisfied: tenacity!=8.4.0,<10.0.0,>=8.1.0 in /home/zadmin/Desktop/GAAI-B4-Azure/genai/lib/python3.12/site-packages (from langchain-core<1.0.0,>=0.3.72->langchain) (9.1.2)\n",
      "Requirement already satisfied: jsonpatch<2.0,>=1.33 in /home/zadmin/Desktop/GAAI-B4-Azure/genai/lib/python3.12/site-packages (from langchain-core<1.0.0,>=0.3.72->langchain) (1.33)\n",
      "Requirement already satisfied: typing-extensions>=4.7 in /home/zadmin/Desktop/GAAI-B4-Azure/genai/lib/python3.12/site-packages (from langchain-core<1.0.0,>=0.3.72->langchain) (4.15.0)\n",
      "Requirement already satisfied: packaging>=23.2 in /home/zadmin/Desktop/GAAI-B4-Azure/genai/lib/python3.12/site-packages (from langchain-core<1.0.0,>=0.3.72->langchain) (24.2)\n",
      "Requirement already satisfied: jsonpointer>=1.9 in /home/zadmin/Desktop/GAAI-B4-Azure/genai/lib/python3.12/site-packages (from jsonpatch<2.0,>=1.33->langchain-core<1.0.0,>=0.3.72->langchain) (3.0.0)\n",
      "Requirement already satisfied: annotated-types>=0.6.0 in /home/zadmin/Desktop/GAAI-B4-Azure/genai/lib/python3.12/site-packages (from pydantic<3.0.0,>=2.7.4->langchain) (0.7.0)\n",
      "Requirement already satisfied: pydantic-core==2.33.2 in /home/zadmin/Desktop/GAAI-B4-Azure/genai/lib/python3.12/site-packages (from pydantic<3.0.0,>=2.7.4->langchain) (2.33.2)\n",
      "Requirement already satisfied: typing-inspection>=0.4.0 in /home/zadmin/Desktop/GAAI-B4-Azure/genai/lib/python3.12/site-packages (from pydantic<3.0.0,>=2.7.4->langchain) (0.4.1)\n",
      "Requirement already satisfied: charset_normalizer<4,>=2 in /home/zadmin/Desktop/GAAI-B4-Azure/genai/lib/python3.12/site-packages (from requests<3,>=2->langchain) (3.4.3)\n",
      "Requirement already satisfied: idna<4,>=2.5 in /home/zadmin/Desktop/GAAI-B4-Azure/genai/lib/python3.12/site-packages (from requests<3,>=2->langchain) (3.10)\n",
      "Requirement already satisfied: urllib3<3,>=1.21.1 in /home/zadmin/Desktop/GAAI-B4-Azure/genai/lib/python3.12/site-packages (from requests<3,>=2->langchain) (2.5.0)\n",
      "Requirement already satisfied: certifi>=2017.4.17 in /home/zadmin/Desktop/GAAI-B4-Azure/genai/lib/python3.12/site-packages (from requests<3,>=2->langchain) (2025.8.3)\n",
      "Requirement already satisfied: greenlet>=1 in /home/zadmin/Desktop/GAAI-B4-Azure/genai/lib/python3.12/site-packages (from SQLAlchemy<3,>=1.4->langchain) (3.2.4)\n",
      "Requirement already satisfied: anyio<5,>=3.5.0 in /home/zadmin/Desktop/GAAI-B4-Azure/genai/lib/python3.12/site-packages (from openai) (4.10.0)\n",
      "Requirement already satisfied: distro<2,>=1.7.0 in /home/zadmin/Desktop/GAAI-B4-Azure/genai/lib/python3.12/site-packages (from openai) (1.9.0)\n",
      "Requirement already satisfied: httpx<1,>=0.23.0 in /home/zadmin/Desktop/GAAI-B4-Azure/genai/lib/python3.12/site-packages (from openai) (0.28.1)\n",
      "Requirement already satisfied: jiter<1,>=0.4.0 in /home/zadmin/Desktop/GAAI-B4-Azure/genai/lib/python3.12/site-packages (from openai) (0.10.0)\n",
      "Requirement already satisfied: sniffio in /home/zadmin/Desktop/GAAI-B4-Azure/genai/lib/python3.12/site-packages (from openai) (1.3.1)\n",
      "Requirement already satisfied: tqdm>4 in /home/zadmin/Desktop/GAAI-B4-Azure/genai/lib/python3.12/site-packages (from openai) (4.67.1)\n",
      "Requirement already satisfied: httpcore==1.* in /home/zadmin/Desktop/GAAI-B4-Azure/genai/lib/python3.12/site-packages (from httpx<1,>=0.23.0->openai) (1.0.9)\n",
      "Requirement already satisfied: h11>=0.16 in /home/zadmin/Desktop/GAAI-B4-Azure/genai/lib/python3.12/site-packages (from httpcore==1.*->httpx<1,>=0.23.0->openai) (0.16.0)\n",
      "Requirement already satisfied: mlflow-skinny==3.3.2 in /home/zadmin/Desktop/GAAI-B4-Azure/genai/lib/python3.12/site-packages (from mlflow) (3.3.2)\n",
      "Requirement already satisfied: mlflow-tracing==3.3.2 in /home/zadmin/Desktop/GAAI-B4-Azure/genai/lib/python3.12/site-packages (from mlflow) (3.3.2)\n",
      "Requirement already satisfied: Flask<4 in /home/zadmin/Desktop/GAAI-B4-Azure/genai/lib/python3.12/site-packages (from mlflow) (3.1.2)\n",
      "Requirement already satisfied: alembic!=1.10.0,<2 in /home/zadmin/Desktop/GAAI-B4-Azure/genai/lib/python3.12/site-packages (from mlflow) (1.16.4)\n",
      "Requirement already satisfied: cryptography<46,>=43.0.0 in /home/zadmin/Desktop/GAAI-B4-Azure/genai/lib/python3.12/site-packages (from mlflow) (45.0.6)\n",
      "Requirement already satisfied: docker<8,>=4.0.0 in /home/zadmin/Desktop/GAAI-B4-Azure/genai/lib/python3.12/site-packages (from mlflow) (7.1.0)\n",
      "Requirement already satisfied: graphene<4 in /home/zadmin/Desktop/GAAI-B4-Azure/genai/lib/python3.12/site-packages (from mlflow) (3.4.3)\n",
      "Requirement already satisfied: gunicorn<24 in /home/zadmin/Desktop/GAAI-B4-Azure/genai/lib/python3.12/site-packages (from mlflow) (23.0.0)\n",
      "Requirement already satisfied: matplotlib<4 in /home/zadmin/Desktop/GAAI-B4-Azure/genai/lib/python3.12/site-packages (from mlflow) (3.10.5)\n",
      "Requirement already satisfied: numpy<3 in /home/zadmin/Desktop/GAAI-B4-Azure/genai/lib/python3.12/site-packages (from mlflow) (2.3.2)\n",
      "Requirement already satisfied: pandas<3 in /home/zadmin/Desktop/GAAI-B4-Azure/genai/lib/python3.12/site-packages (from mlflow) (2.3.2)\n",
      "Requirement already satisfied: pyarrow<22,>=4.0.0 in /home/zadmin/Desktop/GAAI-B4-Azure/genai/lib/python3.12/site-packages (from mlflow) (19.0.1)\n",
      "Requirement already satisfied: scikit-learn<2 in /home/zadmin/Desktop/GAAI-B4-Azure/genai/lib/python3.12/site-packages (from mlflow) (1.7.1)\n",
      "Requirement already satisfied: scipy<2 in /home/zadmin/Desktop/GAAI-B4-Azure/genai/lib/python3.12/site-packages (from mlflow) (1.16.1)\n",
      "Requirement already satisfied: cachetools<7,>=5.0.0 in /home/zadmin/Desktop/GAAI-B4-Azure/genai/lib/python3.12/site-packages (from mlflow-skinny==3.3.2->mlflow) (5.5.2)\n",
      "Requirement already satisfied: click<9,>=7.0 in /home/zadmin/Desktop/GAAI-B4-Azure/genai/lib/python3.12/site-packages (from mlflow-skinny==3.3.2->mlflow) (8.2.1)\n",
      "Requirement already satisfied: cloudpickle<4 in /home/zadmin/Desktop/GAAI-B4-Azure/genai/lib/python3.12/site-packages (from mlflow-skinny==3.3.2->mlflow) (3.1.1)\n",
      "Requirement already satisfied: databricks-sdk<1,>=0.20.0 in /home/zadmin/Desktop/GAAI-B4-Azure/genai/lib/python3.12/site-packages (from mlflow-skinny==3.3.2->mlflow) (0.64.0)\n",
      "Requirement already satisfied: fastapi<1 in /home/zadmin/Desktop/GAAI-B4-Azure/genai/lib/python3.12/site-packages (from mlflow-skinny==3.3.2->mlflow) (0.116.1)\n",
      "Requirement already satisfied: gitpython<4,>=3.1.9 in /home/zadmin/Desktop/GAAI-B4-Azure/genai/lib/python3.12/site-packages (from mlflow-skinny==3.3.2->mlflow) (3.1.45)\n",
      "Requirement already satisfied: importlib_metadata!=4.7.0,<9,>=3.7.0 in /home/zadmin/Desktop/GAAI-B4-Azure/genai/lib/python3.12/site-packages (from mlflow-skinny==3.3.2->mlflow) (8.7.0)\n",
      "Requirement already satisfied: opentelemetry-api<3,>=1.9.0 in /home/zadmin/Desktop/GAAI-B4-Azure/genai/lib/python3.12/site-packages (from mlflow-skinny==3.3.2->mlflow) (1.36.0)\n",
      "Requirement already satisfied: opentelemetry-sdk<3,>=1.9.0 in /home/zadmin/Desktop/GAAI-B4-Azure/genai/lib/python3.12/site-packages (from mlflow-skinny==3.3.2->mlflow) (1.36.0)\n",
      "Requirement already satisfied: protobuf<7,>=3.12.0 in /home/zadmin/Desktop/GAAI-B4-Azure/genai/lib/python3.12/site-packages (from mlflow-skinny==3.3.2->mlflow) (6.32.0)\n",
      "Requirement already satisfied: sqlparse<1,>=0.4.0 in /home/zadmin/Desktop/GAAI-B4-Azure/genai/lib/python3.12/site-packages (from mlflow-skinny==3.3.2->mlflow) (0.5.3)\n",
      "Requirement already satisfied: uvicorn<1 in /home/zadmin/Desktop/GAAI-B4-Azure/genai/lib/python3.12/site-packages (from mlflow-skinny==3.3.2->mlflow) (0.35.0)\n",
      "Requirement already satisfied: Mako in /home/zadmin/Desktop/GAAI-B4-Azure/genai/lib/python3.12/site-packages (from alembic!=1.10.0,<2->mlflow) (1.3.10)\n",
      "Requirement already satisfied: cffi>=1.14 in /home/zadmin/Desktop/GAAI-B4-Azure/genai/lib/python3.12/site-packages (from cryptography<46,>=43.0.0->mlflow) (1.17.1)\n",
      "Requirement already satisfied: google-auth~=2.0 in /home/zadmin/Desktop/GAAI-B4-Azure/genai/lib/python3.12/site-packages (from databricks-sdk<1,>=0.20.0->mlflow-skinny==3.3.2->mlflow) (2.40.3)\n",
      "Requirement already satisfied: starlette<0.48.0,>=0.40.0 in /home/zadmin/Desktop/GAAI-B4-Azure/genai/lib/python3.12/site-packages (from fastapi<1->mlflow-skinny==3.3.2->mlflow) (0.47.3)\n",
      "Requirement already satisfied: blinker>=1.9.0 in /home/zadmin/Desktop/GAAI-B4-Azure/genai/lib/python3.12/site-packages (from Flask<4->mlflow) (1.9.0)\n",
      "Requirement already satisfied: itsdangerous>=2.2.0 in /home/zadmin/Desktop/GAAI-B4-Azure/genai/lib/python3.12/site-packages (from Flask<4->mlflow) (2.2.0)\n",
      "Requirement already satisfied: jinja2>=3.1.2 in /home/zadmin/Desktop/GAAI-B4-Azure/genai/lib/python3.12/site-packages (from Flask<4->mlflow) (3.1.6)\n",
      "Requirement already satisfied: markupsafe>=2.1.1 in /home/zadmin/Desktop/GAAI-B4-Azure/genai/lib/python3.12/site-packages (from Flask<4->mlflow) (3.0.2)\n",
      "Requirement already satisfied: werkzeug>=3.1.0 in /home/zadmin/Desktop/GAAI-B4-Azure/genai/lib/python3.12/site-packages (from Flask<4->mlflow) (3.1.1)\n",
      "Requirement already satisfied: gitdb<5,>=4.0.1 in /home/zadmin/Desktop/GAAI-B4-Azure/genai/lib/python3.12/site-packages (from gitpython<4,>=3.1.9->mlflow-skinny==3.3.2->mlflow) (4.0.12)\n",
      "Requirement already satisfied: smmap<6,>=3.0.1 in /home/zadmin/Desktop/GAAI-B4-Azure/genai/lib/python3.12/site-packages (from gitdb<5,>=4.0.1->gitpython<4,>=3.1.9->mlflow-skinny==3.3.2->mlflow) (5.0.2)\n",
      "Requirement already satisfied: pyasn1-modules>=0.2.1 in /home/zadmin/Desktop/GAAI-B4-Azure/genai/lib/python3.12/site-packages (from google-auth~=2.0->databricks-sdk<1,>=0.20.0->mlflow-skinny==3.3.2->mlflow) (0.4.2)\n",
      "Requirement already satisfied: rsa<5,>=3.1.4 in /home/zadmin/Desktop/GAAI-B4-Azure/genai/lib/python3.12/site-packages (from google-auth~=2.0->databricks-sdk<1,>=0.20.0->mlflow-skinny==3.3.2->mlflow) (4.9.1)\n",
      "Requirement already satisfied: graphql-core<3.3,>=3.1 in /home/zadmin/Desktop/GAAI-B4-Azure/genai/lib/python3.12/site-packages (from graphene<4->mlflow) (3.2.6)\n",
      "Requirement already satisfied: graphql-relay<3.3,>=3.1 in /home/zadmin/Desktop/GAAI-B4-Azure/genai/lib/python3.12/site-packages (from graphene<4->mlflow) (3.2.0)\n",
      "Requirement already satisfied: python-dateutil<3,>=2.7.0 in /home/zadmin/Desktop/GAAI-B4-Azure/genai/lib/python3.12/site-packages (from graphene<4->mlflow) (2.9.0.post0)\n",
      "Requirement already satisfied: zipp>=3.20 in /home/zadmin/Desktop/GAAI-B4-Azure/genai/lib/python3.12/site-packages (from importlib_metadata!=4.7.0,<9,>=3.7.0->mlflow-skinny==3.3.2->mlflow) (3.23.0)\n",
      "Requirement already satisfied: contourpy>=1.0.1 in /home/zadmin/Desktop/GAAI-B4-Azure/genai/lib/python3.12/site-packages (from matplotlib<4->mlflow) (1.3.3)\n",
      "Requirement already satisfied: cycler>=0.10 in /home/zadmin/Desktop/GAAI-B4-Azure/genai/lib/python3.12/site-packages (from matplotlib<4->mlflow) (0.12.1)\n",
      "Requirement already satisfied: fonttools>=4.22.0 in /home/zadmin/Desktop/GAAI-B4-Azure/genai/lib/python3.12/site-packages (from matplotlib<4->mlflow) (4.59.1)\n",
      "Requirement already satisfied: kiwisolver>=1.3.1 in /home/zadmin/Desktop/GAAI-B4-Azure/genai/lib/python3.12/site-packages (from matplotlib<4->mlflow) (1.4.9)\n",
      "Requirement already satisfied: pillow>=8 in /home/zadmin/Desktop/GAAI-B4-Azure/genai/lib/python3.12/site-packages (from matplotlib<4->mlflow) (11.3.0)\n",
      "Requirement already satisfied: pyparsing>=2.3.1 in /home/zadmin/Desktop/GAAI-B4-Azure/genai/lib/python3.12/site-packages (from matplotlib<4->mlflow) (3.2.3)\n",
      "Requirement already satisfied: opentelemetry-semantic-conventions==0.57b0 in /home/zadmin/Desktop/GAAI-B4-Azure/genai/lib/python3.12/site-packages (from opentelemetry-sdk<3,>=1.9.0->mlflow-skinny==3.3.2->mlflow) (0.57b0)\n",
      "Requirement already satisfied: pytz>=2020.1 in /home/zadmin/Desktop/GAAI-B4-Azure/genai/lib/python3.12/site-packages (from pandas<3->mlflow) (2025.2)\n",
      "Requirement already satisfied: tzdata>=2022.7 in /home/zadmin/Desktop/GAAI-B4-Azure/genai/lib/python3.12/site-packages (from pandas<3->mlflow) (2025.2)\n",
      "Requirement already satisfied: six>=1.5 in /home/zadmin/Desktop/GAAI-B4-Azure/genai/lib/python3.12/site-packages (from python-dateutil<3,>=2.7.0->graphene<4->mlflow) (1.17.0)\n",
      "Requirement already satisfied: pyasn1>=0.1.3 in /home/zadmin/Desktop/GAAI-B4-Azure/genai/lib/python3.12/site-packages (from rsa<5,>=3.1.4->google-auth~=2.0->databricks-sdk<1,>=0.20.0->mlflow-skinny==3.3.2->mlflow) (0.6.1)\n",
      "Requirement already satisfied: joblib>=1.2.0 in /home/zadmin/Desktop/GAAI-B4-Azure/genai/lib/python3.12/site-packages (from scikit-learn<2->mlflow) (1.5.1)\n",
      "Requirement already satisfied: threadpoolctl>=3.1.0 in /home/zadmin/Desktop/GAAI-B4-Azure/genai/lib/python3.12/site-packages (from scikit-learn<2->mlflow) (3.6.0)\n",
      "Requirement already satisfied: multitasking>=0.0.7 in /home/zadmin/Desktop/GAAI-B4-Azure/genai/lib/python3.12/site-packages (from yfinance) (0.0.12)\n",
      "Requirement already satisfied: platformdirs>=2.0.0 in /home/zadmin/Desktop/GAAI-B4-Azure/genai/lib/python3.12/site-packages (from yfinance) (4.4.0)\n",
      "Requirement already satisfied: frozendict>=2.3.4 in /home/zadmin/Desktop/GAAI-B4-Azure/genai/lib/python3.12/site-packages (from yfinance) (2.4.6)\n",
      "Requirement already satisfied: peewee>=3.16.2 in /home/zadmin/Desktop/GAAI-B4-Azure/genai/lib/python3.12/site-packages (from yfinance) (3.18.2)\n",
      "Requirement already satisfied: beautifulsoup4>=4.11.1 in /home/zadmin/Desktop/GAAI-B4-Azure/genai/lib/python3.12/site-packages (from yfinance) (4.13.5)\n",
      "Requirement already satisfied: curl_cffi>=0.7 in /home/zadmin/Desktop/GAAI-B4-Azure/genai/lib/python3.12/site-packages (from yfinance) (0.13.0)\n",
      "Requirement already satisfied: websockets>=13.0 in /home/zadmin/Desktop/GAAI-B4-Azure/genai/lib/python3.12/site-packages (from yfinance) (15.0.1)\n",
      "Requirement already satisfied: primp>=0.15.0 in /home/zadmin/Desktop/GAAI-B4-Azure/genai/lib/python3.12/site-packages (from duckduckgo-search) (0.15.0)\n",
      "Requirement already satisfied: lxml>=5.3.0 in /home/zadmin/Desktop/GAAI-B4-Azure/genai/lib/python3.12/site-packages (from duckduckgo-search) (6.0.1)\n",
      "Requirement already satisfied: aiohttp<4.0.0,>=3.8.3 in /home/zadmin/Desktop/GAAI-B4-Azure/genai/lib/python3.12/site-packages (from langchain_community) (3.12.15)\n",
      "Requirement already satisfied: dataclasses-json<0.7,>=0.5.7 in /home/zadmin/Desktop/GAAI-B4-Azure/genai/lib/python3.12/site-packages (from langchain_community) (0.6.7)\n",
      "Requirement already satisfied: pydantic-settings<3.0.0,>=2.4.0 in /home/zadmin/Desktop/GAAI-B4-Azure/genai/lib/python3.12/site-packages (from langchain_community) (2.10.1)\n",
      "Requirement already satisfied: httpx-sse<1.0.0,>=0.4.0 in /home/zadmin/Desktop/GAAI-B4-Azure/genai/lib/python3.12/site-packages (from langchain_community) (0.4.1)\n",
      "Requirement already satisfied: aiohappyeyeballs>=2.5.0 in /home/zadmin/Desktop/GAAI-B4-Azure/genai/lib/python3.12/site-packages (from aiohttp<4.0.0,>=3.8.3->langchain_community) (2.6.1)\n",
      "Requirement already satisfied: aiosignal>=1.4.0 in /home/zadmin/Desktop/GAAI-B4-Azure/genai/lib/python3.12/site-packages (from aiohttp<4.0.0,>=3.8.3->langchain_community) (1.4.0)\n",
      "Requirement already satisfied: attrs>=17.3.0 in /home/zadmin/Desktop/GAAI-B4-Azure/genai/lib/python3.12/site-packages (from aiohttp<4.0.0,>=3.8.3->langchain_community) (25.3.0)\n",
      "Requirement already satisfied: frozenlist>=1.1.1 in /home/zadmin/Desktop/GAAI-B4-Azure/genai/lib/python3.12/site-packages (from aiohttp<4.0.0,>=3.8.3->langchain_community) (1.7.0)\n",
      "Requirement already satisfied: multidict<7.0,>=4.5 in /home/zadmin/Desktop/GAAI-B4-Azure/genai/lib/python3.12/site-packages (from aiohttp<4.0.0,>=3.8.3->langchain_community) (6.6.4)\n",
      "Requirement already satisfied: propcache>=0.2.0 in /home/zadmin/Desktop/GAAI-B4-Azure/genai/lib/python3.12/site-packages (from aiohttp<4.0.0,>=3.8.3->langchain_community) (0.3.2)\n",
      "Requirement already satisfied: yarl<2.0,>=1.17.0 in /home/zadmin/Desktop/GAAI-B4-Azure/genai/lib/python3.12/site-packages (from aiohttp<4.0.0,>=3.8.3->langchain_community) (1.20.1)\n",
      "Requirement already satisfied: marshmallow<4.0.0,>=3.18.0 in /home/zadmin/Desktop/GAAI-B4-Azure/genai/lib/python3.12/site-packages (from dataclasses-json<0.7,>=0.5.7->langchain_community) (3.26.1)\n",
      "Requirement already satisfied: typing-inspect<1,>=0.4.0 in /home/zadmin/Desktop/GAAI-B4-Azure/genai/lib/python3.12/site-packages (from dataclasses-json<0.7,>=0.5.7->langchain_community) (0.9.0)\n",
      "Requirement already satisfied: python-dotenv>=0.21.0 in /home/zadmin/Desktop/GAAI-B4-Azure/genai/lib/python3.12/site-packages (from pydantic-settings<3.0.0,>=2.4.0->langchain_community) (1.1.1)\n",
      "Requirement already satisfied: mypy-extensions>=0.3.0 in /home/zadmin/Desktop/GAAI-B4-Azure/genai/lib/python3.12/site-packages (from typing-inspect<1,>=0.4.0->dataclasses-json<0.7,>=0.5.7->langchain_community) (1.1.0)\n",
      "Requirement already satisfied: soupsieve>1.2 in /home/zadmin/Desktop/GAAI-B4-Azure/genai/lib/python3.12/site-packages (from beautifulsoup4>=4.11.1->yfinance) (2.7)\n",
      "Requirement already satisfied: pycparser in /home/zadmin/Desktop/GAAI-B4-Azure/genai/lib/python3.12/site-packages (from cffi>=1.14->cryptography<46,>=43.0.0->mlflow) (2.22)\n",
      "Requirement already satisfied: orjson>=3.9.14 in /home/zadmin/Desktop/GAAI-B4-Azure/genai/lib/python3.12/site-packages (from langsmith>=0.1.17->langchain) (3.11.2)\n",
      "Requirement already satisfied: requests-toolbelt>=1.0.0 in /home/zadmin/Desktop/GAAI-B4-Azure/genai/lib/python3.12/site-packages (from langsmith>=0.1.17->langchain) (1.0.0)\n",
      "Requirement already satisfied: zstandard>=0.23.0 in /home/zadmin/Desktop/GAAI-B4-Azure/genai/lib/python3.12/site-packages (from langsmith>=0.1.17->langchain) (0.24.0)\n"
     ]
    }
   ],
   "source": [
    "# Install required packages\n",
    "!python -m pip install langchain openai mlflow yfinance duckduckgo-search langchain_community ddgs\n"
   ]
  },
  {
   "cell_type": "code",
   "execution_count": null,
   "id": "0f3217e2",
   "metadata": {},
   "outputs": [
    {
     "name": "stderr",
     "output_type": "stream",
     "text": [
      "python-dotenv could not parse statement starting at line 17\n"
     ]
    },
    {
     "data": {
      "text/plain": [
       "True"
      ]
     },
     "execution_count": 2,
     "metadata": {},
     "output_type": "execute_result"
    }
   ],
   "source": [
    "import yfinance as yf\n",
    "from duckduckgo_search import DDGS\n",
    "from langchain.chat_models import AzureChatOpenAI\n",
    "from langchain.output_parsers import PydanticOutputParser\n",
    "from langchain.prompts import ChatPromptTemplate\n",
    "from pydantic import BaseModel\n",
    "import mlflow\n",
    "import os\n",
    "import json\n",
    "import certifi\n",
    "from ddgs import DDGS\n",
    "from dotenv import load_dotenv\n",
    "load_dotenv()\n",
    "from openai import AzureOpenAI\n",
    "from langchain_openai import AzureChatOpenAI\n",
    "\n"
   ]
  },
  {
   "cell_type": "code",
   "execution_count": 3,
   "id": "639cb319",
   "metadata": {},
   "outputs": [],
   "source": [
    "import requests\n",
    "from typing import List, Dict\n",
    " \n",
    "def search_yahoo_finance(query: str, limit: int = 10) -> List[Dict]:\n",
    "    \"\"\"\n",
    "    Search Yahoo Finance for stock symbols by company name.\n",
    "    Works for multiple exchanges (NSE, BSE, NASDAQ, NYSE, LSE, etc.)\n",
    "    \"\"\"\n",
    "    url = \"https://query2.finance.yahoo.com/v1/finance/search\"\n",
    "    params = {\"q\": query, \"quotesCount\": limit, \"newsCount\": 0}\n",
    "    headers = {\"User-Agent\": \"Mozilla/5.0\"}  # pretend like a browser\n",
    " \n",
    "    resp = requests.get(url, params=params, headers=headers, timeout=10)\n",
    "    resp.raise_for_status()\n",
    "    data = resp.json()\n",
    " \n",
    "    results = []\n",
    "    for q in data.get(\"quotes\", [])[:limit]:\n",
    "        results.append({\n",
    "            \"symbol\": q.get(\"symbol\"),\n",
    "            \"name\": q.get(\"shortname\") or q.get(\"longname\"),\n",
    "            \"exchange\": q.get(\"exchange\"),\n",
    "            \"exchange_display\": q.get(\"exchDisp\"),\n",
    "            \"type\": q.get(\"quoteType\"),\n",
    "        })\n",
    "    return results\n"
   ]
  },
  {
   "cell_type": "code",
   "execution_count": 4,
   "id": "0416534e",
   "metadata": {},
   "outputs": [
    {
     "name": "stdout",
     "output_type": "stream",
     "text": [
      "[{'symbol': 'AAPL', 'name': 'Apple Inc.', 'exchange': 'NMS', 'exchange_display': 'NASDAQ', 'type': 'EQUITY'}]\n"
     ]
    }
   ],
   "source": [
    "STOCK_CODE=search_yahoo_finance(\"Apple\", limit=1)\n",
    "company_name = STOCK_CODE[0]['name']\n",
    "stock_code = STOCK_CODE[0]['symbol']\n",
    "print(STOCK_CODE)"
   ]
  },
  {
   "cell_type": "code",
   "execution_count": 17,
   "id": "cd3e8225",
   "metadata": {},
   "outputs": [
    {
     "name": "stdout",
     "output_type": "stream",
     "text": [
      "Apple Unveils iPhone 17 as Cramer Labels It His ‘Quarterback Stock’: Apple Inc . (NASDAQ:AAPL) is one of the 12 Jim Cramer Stock Picks this Week. The company unveiled its...\n",
      "Jim Cramer Gushes About Apple Inc. (AAPL)’s iPhone Air: We recently published 8 Stocks on Jim Cramer’s Radar. Apple Inc . (NASDAQ:AAPL) is one of the stocks ...\n"
     ]
    }
   ],
   "source": [
    "# Step 3: Fetch company news using DuckDuckGo\n",
    "def fetch_news(company_name):\n",
    "    results = DDGS().news(company_name, max_results=2)\n",
    "    return [r[\"title\"] + \": \" + r[\"body\"] for r in results]\n",
    "\n",
    "news_summaries = fetch_news(company_name)\n",
    "news_text = \"\\n\".join(news_summaries)\n",
    "print(news_text)"
   ]
  },
  {
   "cell_type": "code",
   "execution_count": 55,
   "id": "23787147",
   "metadata": {},
   "outputs": [],
   "source": [
    "# Step 4: Define output schema\n",
    "class SentimentOutput(BaseModel):\n",
    "    company_name: str\n",
    "    stock_code: str\n",
    "    newsdesc: str\n",
    "    sentiment: str\n",
    "    people_names: list[str]\n",
    "    places_names: list[str]\n",
    "    other_companies_referred: list[str]\n",
    "    related_industries: list[str]\n",
    "    market_implications: str\n",
    "    confidence_score: float\n",
    "\n",
    "parser = PydanticOutputParser(pydantic_object=SentimentOutput)\n"
   ]
  },
  {
   "cell_type": "code",
   "execution_count": 8,
   "id": "b0c17f02",
   "metadata": {},
   "outputs": [
    {
     "name": "stdout",
     "output_type": "stream",
     "text": [
      "3.3.2\n"
     ]
    },
    {
     "data": {
      "text/plain": [
       "<Experiment: artifact_location='mlflow-artifacts:/118450250910526494', creation_time=1758007942357, experiment_id='118450250910526494', last_update_time=1758007942357, lifecycle_stage='active', name='nikhil_Real-Time Market Sentiment Analyzer Using LangChain Chains', tags={}>"
      ]
     },
     "execution_count": 8,
     "metadata": {},
     "output_type": "execute_result"
    }
   ],
   "source": [
    "mlflow.set_tracking_uri(\"http://20.75.92.162:5000/\")\n",
    "print(mlflow.__version__)\n",
    "mlflow.set_experiment('nikhil_Real-Time Market Sentiment Analyzer Using LangChain Chains')"
   ]
  },
  {
   "cell_type": "code",
   "execution_count": null,
   "id": "abbb340a",
   "metadata": {},
   "outputs": [
    {
     "name": "stdout",
     "output_type": "stream",
     "text": [
      "{\n",
      "  \"stock\": \"AAPL\",\n",
      "  \"news\": \"Apple Unveils iPhone 17 as Cramer Labels It His ‘Quarterback Stock’\",\n",
      "  \"analyst\": \"Jim Cramer\",\n",
      "  \"sentiment\": {\n",
      "    \"overall\": \"positive\",\n",
      "    \"specifics\": {\n",
      "      \"product_launch\": \"positive\",\n",
      "      \"analyst_opinion\": \"favorable\",\n",
      "      \"market_reaction\": \"anticipated to be positive\"\n",
      "    }\n",
      "  }\n",
      "}\n"
     ]
    },
    {
     "data": {
      "text/html": [
       "\n",
       "<div>\n",
       "  <style scoped>\n",
       "  button {\n",
       "    border: none;\n",
       "    border-radius: 4px;\n",
       "    background-color: rgb(34, 114, 180);\n",
       "    font-family: -apple-system, \"system-ui\", \"Segoe UI\", Roboto, \"Helvetica Neue\", Arial;\n",
       "    font-size: 13px;\n",
       "    color: white;\n",
       "    margin-top: 8px;\n",
       "    margin-bottom: 8px;\n",
       "    padding: 8px 16px;\n",
       "    cursor: pointer;\n",
       "  }\n",
       "  button:hover {\n",
       "    background-color: rgb(66, 153, 224);\n",
       "  }\n",
       "  </style>\n",
       "  <button\n",
       "    onclick=\"\n",
       "        const display = this.nextElementSibling.style.display;\n",
       "        const isCollapsed = display === 'none';\n",
       "        this.nextElementSibling.style.display = isCollapsed ? null : 'none';\n",
       "\n",
       "        const verb = isCollapsed ? 'Collapse' : 'Expand';\n",
       "        this.innerText = `${verb} MLflow Trace`;\n",
       "    \"\n",
       "  >Collapse MLflow Trace</button>\n",
       "  <iframe\n",
       "    id=\"trace-renderer\"\n",
       "    style=\"width: 100%; height: 500px; border: none; resize: vertical;\"\n",
       "    src=\"http://20.75.92.162:5000/static-files/lib/notebook-trace-renderer/index.html?trace_id=tr-8b597d359d7742c3cb4d9585c8e245bd&amp;experiment_id=118450250910526494&amp;version=3.3.2\"\n",
       "  />\n",
       "</div>\n"
      ],
      "text/plain": [
       "Trace(trace_id=tr-8b597d359d7742c3cb4d9585c8e245bd)"
      ]
     },
     "metadata": {},
     "output_type": "display_data"
    }
   ],
   "source": [
    "from langchain.output_parsers import OutputFixingParser\n",
    "\n",
    "# Prompt\n",
    "prompt = ChatPromptTemplate.from_messages([\n",
    "    (\"system\", \"You are a financial sentiment analysis assistant. Respond ONLY with valid dictionary\"),\n",
    "    (\"human\", \" provide a structured sentiment profile:\\nNews: {news}\\nStock Code: {stock_code}\")\n",
    "])\n",
    "\n",
    "\n",
    "# Model\n",
    "model = AzureChatOpenAI(model=model_name)\n",
    "\n",
    "parser = OutputFixingParser.from_llm(parser=SentimentOutput, llm=model)\n",
    "\n",
    "# Chain\n",
    "chain = prompt | model | parser\n",
    "\n",
    "\n",
    "\n",
    "\n",
    "mlflow.openai.autolog()\n",
    "with mlflow.start_run(run_name=\"nikhilpatil-Real-Time Market Sentiment Analyzer Using LangChain Chains\"):\n",
    "    mlflow.log_param(\"company_name\", company_name)\n",
    "    mlflow.log_param(\"stock_code\", stock_code)\n",
    "    mlflow.log_text(news_text, \"news.txt\")\n",
    "\n",
    "    result = chain.invoke({\n",
    "    \"news\": news_text,\n",
    "    \"stock_code\": stock_code\n",
    "})\n",
    "    mlflow.log_dict(result, \"sentiment.json\")\n",
    "\n",
    "    print(result)"
   ]
  },
  {
   "cell_type": "code",
   "execution_count": null,
   "id": "ace7d67c",
   "metadata": {},
   "outputs": [],
   "source": []
  }
 ],
 "metadata": {
  "kernelspec": {
   "display_name": "genai",
   "language": "python",
   "name": "python3"
  },
  "language_info": {
   "codemirror_mode": {
    "name": "ipython",
    "version": 3
   },
   "file_extension": ".py",
   "mimetype": "text/x-python",
   "name": "python",
   "nbconvert_exporter": "python",
   "pygments_lexer": "ipython3",
   "version": "3.12.3"
  }
 },
 "nbformat": 4,
 "nbformat_minor": 5
}
